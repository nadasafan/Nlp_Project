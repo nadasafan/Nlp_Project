{
 "cells": [
  {
   "cell_type": "markdown",
   "metadata": {
    "id": "lvJLKzFB0hmh"
   },
   "source": [
    "\n",
    "\n",
    "```\n",
    "The initial code is the result of hard work of unique individuals, which has been modified to serve our project purpose.  \n",
    "It will connect to twitter API to retreive the tweets.  \n",
    "This code can be used on any langauage by specifying it.\n",
    "```\n",
    "\n"
   ]
  },
  {
   "cell_type": "markdown",
   "metadata": {
    "id": "_Lww1vsgn1Fd"
   },
   "source": [
    "# Pre-workshop: Installing required libraries"
   ]
  },
  {
   "cell_type": "code",
   "execution_count": 38,
   "metadata": {
    "colab": {
     "base_uri": "https://localhost:8080/"
    },
    "id": "BRrB5gH9n1Fe",
    "outputId": "20eb01be-3e45-4f7d-ee34-7069890fe6be"
   },
   "outputs": [
    {
     "name": "stdout",
     "output_type": "stream",
     "text": [
      "Requirement already satisfied: tweepy in /usr/local/lib/python3.7/dist-packages (3.10.0)\n",
      "Requirement already satisfied: requests-oauthlib>=0.7.0 in /usr/local/lib/python3.7/dist-packages (from tweepy) (1.3.0)\n",
      "Requirement already satisfied: six>=1.10.0 in /usr/local/lib/python3.7/dist-packages (from tweepy) (1.15.0)\n",
      "Requirement already satisfied: requests[socks]>=2.11.1 in /usr/local/lib/python3.7/dist-packages (from tweepy) (2.23.0)\n",
      "Requirement already satisfied: oauthlib>=3.0.0 in /usr/local/lib/python3.7/dist-packages (from requests-oauthlib>=0.7.0->tweepy) (3.1.1)\n",
      "Requirement already satisfied: idna<3,>=2.5 in /usr/local/lib/python3.7/dist-packages (from requests[socks]>=2.11.1->tweepy) (2.10)\n",
      "Requirement already satisfied: chardet<4,>=3.0.2 in /usr/local/lib/python3.7/dist-packages (from requests[socks]>=2.11.1->tweepy) (3.0.4)\n",
      "Requirement already satisfied: certifi>=2017.4.17 in /usr/local/lib/python3.7/dist-packages (from requests[socks]>=2.11.1->tweepy) (2021.10.8)\n",
      "Requirement already satisfied: urllib3!=1.25.0,!=1.25.1,<1.26,>=1.21.1 in /usr/local/lib/python3.7/dist-packages (from requests[socks]>=2.11.1->tweepy) (1.24.3)\n",
      "Requirement already satisfied: PySocks!=1.5.7,>=1.5.6 in /usr/local/lib/python3.7/dist-packages (from requests[socks]>=2.11.1->tweepy) (1.7.1)\n",
      "Requirement already satisfied: xlsxwriter in /usr/local/lib/python3.7/dist-packages (3.0.2)\n"
     ]
    }
   ],
   "source": [
    "import sys\n",
    "!{sys.executable} -m pip install tweepy\n",
    "!{sys.executable} -m pip install xlsxwriter"
   ]
  },
  {
   "cell_type": "markdown",
   "metadata": {
    "id": "pt2f6MLXn1Fh"
   },
   "source": [
    "# Step 1: Import important libraries"
   ]
  },
  {
   "cell_type": "code",
   "execution_count": 39,
   "metadata": {
    "id": "lPh2XhWfn1Fi"
   },
   "outputs": [],
   "source": [
    "#Import the necessary methods from tweepy library\n",
    "import tweepy as tw\n",
    "from tweepy.streaming import StreamListener\n",
    "from tweepy import OAuthHandler\n",
    "from tweepy import Stream\n",
    "import json\n",
    "import pandas as pd\n",
    "import datetime\n",
    "import xlsxwriter"
   ]
  },
  {
   "cell_type": "markdown",
   "metadata": {
    "id": "XHr1lRBZn1Fl"
   },
   "source": [
    "# Step 2: Twitter API user credentials "
   ]
  },
  {
   "cell_type": "code",
   "execution_count": 40,
   "metadata": {
    "id": "D6ej8aNXn1Fm"
   },
   "outputs": [],
   "source": [
    "#Variables that contains the user credentials to access Twitter API \n",
    "access_token = \"1041835233933516800-aZsITXRyKhFzeu6l5I6wtNpWcy1ZA3\"\n",
    "access_token_secret = \"NLo8RPBy8xwEq3PNYNqp3li8zb07uBwTBAwYQNb7a26KR\"\n",
    "consumer_key = \"fbuK0ZTmpYraWczCntcYvEGm5\"\n",
    "consumer_secret = \"MtNSw5RfHViWP7hMQddnF34AT68Zkn2qdCpd1G4OU5BIugFzoP\""
   ]
  },
  {
   "cell_type": "markdown",
   "metadata": {
    "id": "WjIuIAwGn1Fp"
   },
   "source": [
    "# Step 3: Establish contection to the API"
   ]
  },
  {
   "cell_type": "code",
   "execution_count": 41,
   "metadata": {
    "id": "CV-m_LBSn1Fu"
   },
   "outputs": [],
   "source": [
    "#This handles Twitter authetification and the connection to Twitter Streaming API\n",
    "auth = OAuthHandler(consumer_key, consumer_secret)\n",
    "auth.set_access_token(access_token, access_token_secret)\n",
    "api = tw.API(auth, wait_on_rate_limit=True)"
   ]
  },
  {
   "cell_type": "markdown",
   "metadata": {
    "id": "NscA3v2MyL_w"
   },
   "source": [
    "# Step4: Tweets Retrieval "
   ]
  },
  {
   "cell_type": "code",
   "execution_count": 228,
   "metadata": {
    "id": "KFZt4JDIVb2Z"
   },
   "outputs": [],
   "source": [
    "#define keywords and assign them to variables to be used, you can combine the searchfor two words at the same time. In addition, you can exclude retweteed tweets from appearing  to avoid duplication\n",
    "search_words1 = \" نعود بحذر + جهود -filter:retweets\"\n",
    "search_words2 = \"معاملة + مسحة -filter:retweets\"\n",
    "search_words3 = \" وزارة الصحة + جهود -filter:retweets\"\n",
    "search_words4 = \" نعود بحذر + الصحة + كورونا-filter:retweets\"\n",
    "search_words5 = \"المستشفى+ معاملة+ كورونا -filter:retweets\" or \"المسح -filter:retweets\"\n",
    "search_words6 =\"مصابين+كورونا -filter:retweets\" or \"وزارة الصحة+كورونا -filter:retweets\" or \"فحص+كورونا -filter:retweets\"\\\n",
    "              or \"معاملة+الفحص -filter:retweets\" or \"أبطال الصحة -filter:retweets\" or \"تفشي+ جهود -filter:retweets\"\\\n",
    "              or \"مستشفى -filter:retweets\" or \"وزارة الصحة -filter:retweets\" or \"عيادات تطمن -filter:retweets\"\\\n",
    "              or \"الكادر الطبي -filter:retweets\" or \"مجهود+القطاع الصحي -filter:retweets\" or \"فحص+كورونا -filter:retweets\"\n",
    "search_words7 = \"أبطال الصحة +كورونا-filter:retweets\" or \"فحص+ كورونا-filter:retweets\" \\\n",
    "                or \"مستشفى+ كورونا-filter:retweets\" or \"جهود+ الصحة+السعودية +كورونا-filter:retweets\" or\\\n",
    "                \"جهود + الصحة +كورونا-filter:retweets\" or \"عيادات +تطمن + معاملة-filter:retweets\" or\\\n",
    "                \"عيادة + تأكد + معاملة-filter:retweets\" or \"عيادات + تطمن-filter:retweets\" or\\\n",
    "                \"كوفيد-filter:retweets\"\n",
    "search_words8=\"الصحة + كوفيد-filter:retweets\" or  \"عيادات +تطمن + معاملة-filter:retweets\" or \"جهود + الصحة +كورونا-filter:retweets\"\n",
    "search_words9=\"كرونا + الصحة-filter:retweets\"\n",
    "search_words10=\"المستشفيات + كورونا-filter:retweets\"\n",
    "search_words11=\"corona + uk -filter:retweets\" or \"vaccine -filter:retweets\"\n",
    "search_words12=\"الصحة-filter:retweets\"\n",
    "search_words13=\"المتحور الخفى + اوميكرون-filter:retweets\"\n",
    "search_words14=\"المستشفيات + متحور كورونا-filter:retweets\"\n",
    "search_words15=\"المستشفيات + فيروس -filter:retweets\"\n",
    "search_words16=\"المستشفيات + مصاب -filter:retweets\"\n",
    "search_words17=\"المستشفيات + ايجابى كورونا-filter:retweets\"\n",
    "search_words18=\"مصاب + ايجابى كورونا-filter:retweets\"\n",
    "search_words19=\"مصاب + سلبى كورونا-filter:retweets\"\n",
    "search_words20=\"الإجراءات الإحترازية -filter:retweets\"\n",
    "search_words21=\"منع التجمعات + فرض الحذر -filter:retweets\"\n",
    "search_words22=\"السلاح الأبيض -filter:retweets\"\n",
    "search_words23=\"متعافى  -filter:retweets\"\n",
    "search_words24=\"التعليم + كورونا  -filter:retweets\"\n",
    "search_words25=\" فيروس كورونا -filter:retweets\"\n",
    "search_words26=\" بيانات فيروس كورونا -filter:retweets\"\n",
    "search_words27=\" الحالات + الوفيات + الأعداد-filter:retweets\"\n",
    "search_words28=\" العزل-filter:retweets\"\n",
    "search_words29=\" كمامة + ماسك -filter:retweets\"\n",
    "search_words30=\" أعراض + وباء -filter:retweets\"\n",
    "search_words31=\" غلق + أماكن التجمعات+ حذر + كورونا-filter:retweets\"\n",
    "search_words32=\" سعال + البرد + الرشح + أعراض كورونا -filter:retweets\"\n",
    "search_words33=\"الفرق كورونا + البرد  -filter:retweets\"\n",
    "search_words34=\"   كورونا الوطن العربى -filter:retweets\"\n",
    "search_words35=\" كرونا سوريا -filter:retweets\"\n",
    "search_words36=\" كرونا مصر -filter:retweets\"\n",
    "search_words37=\"كرونا اليمن  -filter:retweets\"\n",
    "search_words38=\" كرونا الإمارات -filter:retweets\"\n",
    "search_words39=\" كرونا السعودية -filter:retweets\"\n",
    "search_words40=\" كرونا البحرين -filter:retweets\"\n",
    "search_words41=\" كرونا لبنان -filter:retweets\"\n",
    "\n",
    "\n",
    "\n",
    "\n",
    "\n",
    "\n",
    "\n",
    "\n",
    "#you can specify the langaue you want the tweet to be retrived from + the keywords you previously defined + number of items to retrive \n",
    "results = []\n",
    "for tweet in tw.Cursor(api.search,q=search_words25 ,lang=\"ar\").items(100000):\n",
    "    results.append(tweet)"
   ]
  },
  {
   "cell_type": "code",
   "execution_count": 229,
   "metadata": {
    "id": "WHHPr8JaxXXo"
   },
   "outputs": [],
   "source": [
    "def toDataFrame(tweets):\n",
    "    DataSet = pd.DataFrame()\n",
    "    DataSet['tweetID'] = pd.Series([tweet.id for tweet in tweets])\n",
    "    DataSet['tweetText'] = pd.Series([tweet.text for tweet in tweets])\n",
    "    DataSet['tweetRetweetCt'] = pd.Series([tweet.retweet_count for tweet in tweets])\n",
    "    DataSet['tweetFavoriteCt'] = pd.Series([tweet.favorite_count for tweet in tweets])\n",
    "    DataSet['tweetSource'] = [tweet.source for tweet in tweets]\n",
    "    DataSet['tweetCreated'] = [tweet.created_at for tweet in tweets]\n",
    "    DataSet['userID'] = [tweet.user.id for tweet in tweets]\n",
    "    DataSet['userScreen'] = [tweet.user.screen_name for tweet in tweets]\n",
    "    DataSet['userName'] = [tweet.user.name for tweet in tweets]\n",
    "    DataSet['userCreateDt'] = [tweet.user.created_at for tweet in tweets]\n",
    "    DataSet['userDesc'] = [tweet.user.description for tweet in tweets]\n",
    "    DataSet['userLocation'] = [tweet.user.location for tweet in tweets]\n",
    "    DataSet['userTimezone'] = [tweet.user.time_zone for tweet in tweets]\n",
    "\n",
    "    return DataSet\n",
    "\n",
    "DataSet = toDataFrame(results)"
   ]
  },
  {
   "cell_type": "code",
   "execution_count": 230,
   "metadata": {
    "colab": {
     "base_uri": "https://localhost:8080/",
     "height": 1000
    },
    "id": "1dYfEYqSx1_t",
    "outputId": "c707fa34-23fe-4994-dac5-a0161b7b447f"
   },
   "outputs": [
    {
     "data": {
      "text/html": [
       "\n",
       "  <div id=\"df-9f39e1e1-f3a5-4302-b701-c53c53a134bb\">\n",
       "    <div class=\"colab-df-container\">\n",
       "      <div>\n",
       "<style scoped>\n",
       "    .dataframe tbody tr th:only-of-type {\n",
       "        vertical-align: middle;\n",
       "    }\n",
       "\n",
       "    .dataframe tbody tr th {\n",
       "        vertical-align: top;\n",
       "    }\n",
       "\n",
       "    .dataframe thead th {\n",
       "        text-align: right;\n",
       "    }\n",
       "</style>\n",
       "<table border=\"1\" class=\"dataframe\">\n",
       "  <thead>\n",
       "    <tr style=\"text-align: right;\">\n",
       "      <th></th>\n",
       "      <th>tweetID</th>\n",
       "      <th>tweetText</th>\n",
       "      <th>tweetRetweetCt</th>\n",
       "      <th>tweetFavoriteCt</th>\n",
       "      <th>tweetSource</th>\n",
       "      <th>tweetCreated</th>\n",
       "      <th>userID</th>\n",
       "      <th>userScreen</th>\n",
       "      <th>userName</th>\n",
       "      <th>userCreateDt</th>\n",
       "      <th>userDesc</th>\n",
       "      <th>userLocation</th>\n",
       "      <th>userTimezone</th>\n",
       "    </tr>\n",
       "  </thead>\n",
       "  <tbody>\n",
       "    <tr>\n",
       "      <th>0</th>\n",
       "      <td>1489451707251761157</td>\n",
       "      <td>اكتشاف متحور جديد من فيروس الإيدز HIV أشد فتكا...</td>\n",
       "      <td>0</td>\n",
       "      <td>0</td>\n",
       "      <td>Twitter Web App</td>\n",
       "      <td>2022-02-04 04:12:14</td>\n",
       "      <td>1284004846652325888</td>\n",
       "      <td>MediaZawaya</td>\n",
       "      <td>Zawaya Media</td>\n",
       "      <td>2020-07-17 06:00:26</td>\n",
       "      <td></td>\n",
       "      <td></td>\n",
       "      <td>None</td>\n",
       "    </tr>\n",
       "    <tr>\n",
       "      <th>1</th>\n",
       "      <td>1489449574846676994</td>\n",
       "      <td>@mohmedabogabal قصة كفاح محمد أبو جبل في موندي...</td>\n",
       "      <td>0</td>\n",
       "      <td>2</td>\n",
       "      <td>TweetDeck</td>\n",
       "      <td>2022-02-04 04:03:45</td>\n",
       "      <td>3393416607</td>\n",
       "      <td>alain_4u_sport</td>\n",
       "      <td>العين الرياضية</td>\n",
       "      <td>2015-07-29 08:19:55</td>\n",
       "      <td>الحساب الرسمي لصفحة أخبار الرياضة على العين ال...</td>\n",
       "      <td>All the world</td>\n",
       "      <td>None</td>\n",
       "    </tr>\n",
       "    <tr>\n",
       "      <th>2</th>\n",
       "      <td>1489448695900913672</td>\n",
       "      <td>رئيس مركز العلاجات المناعية: اللقاحات التي طور...</td>\n",
       "      <td>2</td>\n",
       "      <td>6</td>\n",
       "      <td>Sprinklr Publishing</td>\n",
       "      <td>2022-02-04 04:00:16</td>\n",
       "      <td>1122788867529220096</td>\n",
       "      <td>AsharqNews</td>\n",
       "      <td>Asharq News الشرق للأخبار</td>\n",
       "      <td>2019-04-29 09:05:01</td>\n",
       "      <td>الخدمة الرقمية من الشرق للأخبار\\nThe latest an...</td>\n",
       "      <td></td>\n",
       "      <td>None</td>\n",
       "    </tr>\n",
       "    <tr>\n",
       "      <th>3</th>\n",
       "      <td>1489441080047292416</td>\n",
       "      <td>#السويد تعتزم إلغاء جميع القيود لاحتواء #فيروس...</td>\n",
       "      <td>0</td>\n",
       "      <td>1</td>\n",
       "      <td>TweetDeck</td>\n",
       "      <td>2022-02-04 03:30:00</td>\n",
       "      <td>872718937636708352</td>\n",
       "      <td>24Entertain</td>\n",
       "      <td>24.ae | منوعات</td>\n",
       "      <td>2017-06-08 07:36:23</td>\n",
       "      <td>موقع إخباري عربي شامل يزودكم بأخبار الصحة والج...</td>\n",
       "      <td>Abu Dhabi</td>\n",
       "      <td>None</td>\n",
       "    </tr>\n",
       "    <tr>\n",
       "      <th>4</th>\n",
       "      <td>1489437399784603653</td>\n",
       "      <td>الصحة العالمية: متحوّر فرعي من أوميكرون ينتشر ...</td>\n",
       "      <td>0</td>\n",
       "      <td>0</td>\n",
       "      <td>Twitter Web App</td>\n",
       "      <td>2022-02-04 03:15:23</td>\n",
       "      <td>361829509</td>\n",
       "      <td>anwarakldaou</td>\n",
       "      <td>anwarakldaou</td>\n",
       "      <td>2011-08-25 12:04:26</td>\n",
       "      <td>صحافي\\nناشر ورئيس تحرير موقع \"زوايا ميديا\"</td>\n",
       "      <td>lebanon</td>\n",
       "      <td>None</td>\n",
       "    </tr>\n",
       "    <tr>\n",
       "      <th>...</th>\n",
       "      <td>...</td>\n",
       "      <td>...</td>\n",
       "      <td>...</td>\n",
       "      <td>...</td>\n",
       "      <td>...</td>\n",
       "      <td>...</td>\n",
       "      <td>...</td>\n",
       "      <td>...</td>\n",
       "      <td>...</td>\n",
       "      <td>...</td>\n",
       "      <td>...</td>\n",
       "      <td>...</td>\n",
       "      <td>...</td>\n",
       "    </tr>\n",
       "    <tr>\n",
       "      <th>6329</th>\n",
       "      <td>1486553242356039685</td>\n",
       "      <td>فيروس كورونا صباح يوم 27 يناير (بيانات من جامع...</td>\n",
       "      <td>0</td>\n",
       "      <td>0</td>\n",
       "      <td>Twitter for Android</td>\n",
       "      <td>2022-01-27 04:14:46</td>\n",
       "      <td>835395741334048768</td>\n",
       "      <td>Fatinhom</td>\n",
       "      <td>رحّال العمر</td>\n",
       "      <td>2017-02-25 07:47:20</td>\n",
       "      <td>I m not , a negative person, but everything ar...</td>\n",
       "      <td>Hodeidah</td>\n",
       "      <td>None</td>\n",
       "    </tr>\n",
       "    <tr>\n",
       "      <th>6330</th>\n",
       "      <td>1486552293474402306</td>\n",
       "      <td>#فيتو\\n#الصحة: 63 مليون جرعة من لقاح فيروس كور...</td>\n",
       "      <td>0</td>\n",
       "      <td>1</td>\n",
       "      <td>TweetDeck</td>\n",
       "      <td>2022-01-27 04:11:00</td>\n",
       "      <td>941413286</td>\n",
       "      <td>Vetogate</td>\n",
       "      <td>بوابة فيتو</td>\n",
       "      <td>2012-11-11 14:25:38</td>\n",
       "      <td>بوابة إخبارية باللغة العربية تتناول الأخبار و ...</td>\n",
       "      <td>مصر</td>\n",
       "      <td>None</td>\n",
       "    </tr>\n",
       "    <tr>\n",
       "      <th>6331</th>\n",
       "      <td>1486551063499001856</td>\n",
       "      <td>@almshyqh آل إبراهيم إنك حميد مجيد عدد خلقه ور...</td>\n",
       "      <td>0</td>\n",
       "      <td>0</td>\n",
       "      <td>Twitter for Android</td>\n",
       "      <td>2022-01-27 04:06:06</td>\n",
       "      <td>4121263276</td>\n",
       "      <td>abo_d7om2014</td>\n",
       "      <td>Abo.d7om 2014</td>\n",
       "      <td>2015-11-05 18:26:26</td>\n",
       "      <td>لابد للمجد ان يعود.لابدللتاريخ من كلمة فالصغار...</td>\n",
       "      <td>المملكة العربية السعوديةالرياض</td>\n",
       "      <td>None</td>\n",
       "    </tr>\n",
       "    <tr>\n",
       "      <th>6332</th>\n",
       "      <td>1486550385070379019</td>\n",
       "      <td>#التحديث_اليومي لإصابات #فيروس_كورونا #كوفيد_١...</td>\n",
       "      <td>0</td>\n",
       "      <td>0</td>\n",
       "      <td>Twitter Web App</td>\n",
       "      <td>2022-01-27 04:03:25</td>\n",
       "      <td>1449770088995950594</td>\n",
       "      <td>sdocenter</td>\n",
       "      <td>sdoc</td>\n",
       "      <td>2021-10-17 16:11:50</td>\n",
       "      <td>News Of Syria and middle east || Site: https:/...</td>\n",
       "      <td></td>\n",
       "      <td>None</td>\n",
       "    </tr>\n",
       "    <tr>\n",
       "      <th>6333</th>\n",
       "      <td>1486549526588497924</td>\n",
       "      <td>أكد الدكتور خالد عبد الغفار، وزير التعليم العا...</td>\n",
       "      <td>0</td>\n",
       "      <td>5</td>\n",
       "      <td>Twitter Web App</td>\n",
       "      <td>2022-01-27 04:00:00</td>\n",
       "      <td>805692634127736832</td>\n",
       "      <td>cgtnarabic</td>\n",
       "      <td>CGTN Arabic</td>\n",
       "      <td>2016-12-05 08:37:47</td>\n",
       "      <td>شبكة تلفزيون الصين الدولية مؤسسة إعلامية فريدة...</td>\n",
       "      <td></td>\n",
       "      <td>None</td>\n",
       "    </tr>\n",
       "  </tbody>\n",
       "</table>\n",
       "<p>6334 rows × 13 columns</p>\n",
       "</div>\n",
       "      <button class=\"colab-df-convert\" onclick=\"convertToInteractive('df-9f39e1e1-f3a5-4302-b701-c53c53a134bb')\"\n",
       "              title=\"Convert this dataframe to an interactive table.\"\n",
       "              style=\"display:none;\">\n",
       "        \n",
       "  <svg xmlns=\"http://www.w3.org/2000/svg\" height=\"24px\"viewBox=\"0 0 24 24\"\n",
       "       width=\"24px\">\n",
       "    <path d=\"M0 0h24v24H0V0z\" fill=\"none\"/>\n",
       "    <path d=\"M18.56 5.44l.94 2.06.94-2.06 2.06-.94-2.06-.94-.94-2.06-.94 2.06-2.06.94zm-11 1L8.5 8.5l.94-2.06 2.06-.94-2.06-.94L8.5 2.5l-.94 2.06-2.06.94zm10 10l.94 2.06.94-2.06 2.06-.94-2.06-.94-.94-2.06-.94 2.06-2.06.94z\"/><path d=\"M17.41 7.96l-1.37-1.37c-.4-.4-.92-.59-1.43-.59-.52 0-1.04.2-1.43.59L10.3 9.45l-7.72 7.72c-.78.78-.78 2.05 0 2.83L4 21.41c.39.39.9.59 1.41.59.51 0 1.02-.2 1.41-.59l7.78-7.78 2.81-2.81c.8-.78.8-2.07 0-2.86zM5.41 20L4 18.59l7.72-7.72 1.47 1.35L5.41 20z\"/>\n",
       "  </svg>\n",
       "      </button>\n",
       "      \n",
       "  <style>\n",
       "    .colab-df-container {\n",
       "      display:flex;\n",
       "      flex-wrap:wrap;\n",
       "      gap: 12px;\n",
       "    }\n",
       "\n",
       "    .colab-df-convert {\n",
       "      background-color: #E8F0FE;\n",
       "      border: none;\n",
       "      border-radius: 50%;\n",
       "      cursor: pointer;\n",
       "      display: none;\n",
       "      fill: #1967D2;\n",
       "      height: 32px;\n",
       "      padding: 0 0 0 0;\n",
       "      width: 32px;\n",
       "    }\n",
       "\n",
       "    .colab-df-convert:hover {\n",
       "      background-color: #E2EBFA;\n",
       "      box-shadow: 0px 1px 2px rgba(60, 64, 67, 0.3), 0px 1px 3px 1px rgba(60, 64, 67, 0.15);\n",
       "      fill: #174EA6;\n",
       "    }\n",
       "\n",
       "    [theme=dark] .colab-df-convert {\n",
       "      background-color: #3B4455;\n",
       "      fill: #D2E3FC;\n",
       "    }\n",
       "\n",
       "    [theme=dark] .colab-df-convert:hover {\n",
       "      background-color: #434B5C;\n",
       "      box-shadow: 0px 1px 3px 1px rgba(0, 0, 0, 0.15);\n",
       "      filter: drop-shadow(0px 1px 2px rgba(0, 0, 0, 0.3));\n",
       "      fill: #FFFFFF;\n",
       "    }\n",
       "  </style>\n",
       "\n",
       "      <script>\n",
       "        const buttonEl =\n",
       "          document.querySelector('#df-9f39e1e1-f3a5-4302-b701-c53c53a134bb button.colab-df-convert');\n",
       "        buttonEl.style.display =\n",
       "          google.colab.kernel.accessAllowed ? 'block' : 'none';\n",
       "\n",
       "        async function convertToInteractive(key) {\n",
       "          const element = document.querySelector('#df-9f39e1e1-f3a5-4302-b701-c53c53a134bb');\n",
       "          const dataTable =\n",
       "            await google.colab.kernel.invokeFunction('convertToInteractive',\n",
       "                                                     [key], {});\n",
       "          if (!dataTable) return;\n",
       "\n",
       "          const docLinkHtml = 'Like what you see? Visit the ' +\n",
       "            '<a target=\"_blank\" href=https://colab.research.google.com/notebooks/data_table.ipynb>data table notebook</a>'\n",
       "            + ' to learn more about interactive tables.';\n",
       "          element.innerHTML = '';\n",
       "          dataTable['output_type'] = 'display_data';\n",
       "          await google.colab.output.renderOutput(dataTable, element);\n",
       "          const docLink = document.createElement('div');\n",
       "          docLink.innerHTML = docLinkHtml;\n",
       "          element.appendChild(docLink);\n",
       "        }\n",
       "      </script>\n",
       "    </div>\n",
       "  </div>\n",
       "  "
      ],
      "text/plain": [
       "                  tweetID  ... userTimezone\n",
       "0     1489451707251761157  ...         None\n",
       "1     1489449574846676994  ...         None\n",
       "2     1489448695900913672  ...         None\n",
       "3     1489441080047292416  ...         None\n",
       "4     1489437399784603653  ...         None\n",
       "...                   ...  ...          ...\n",
       "6329  1486553242356039685  ...         None\n",
       "6330  1486552293474402306  ...         None\n",
       "6331  1486551063499001856  ...         None\n",
       "6332  1486550385070379019  ...         None\n",
       "6333  1486549526588497924  ...         None\n",
       "\n",
       "[6334 rows x 13 columns]"
      ]
     },
     "execution_count": 230,
     "metadata": {},
     "output_type": "execute_result"
    }
   ],
   "source": [
    "DataSet"
   ]
  },
  {
   "cell_type": "code",
   "execution_count": 231,
   "metadata": {
    "colab": {
     "base_uri": "https://localhost:8080/"
    },
    "id": "KgU9esqJwAhx",
    "outputId": "2d740df1-2648-42b8-c029-ee9469a57a85"
   },
   "outputs": [
    {
     "name": "stdout",
     "output_type": "stream",
     "text": [
      "Drive already mounted at /content/gdrive; to attempt to forcibly remount, call drive.mount(\"/content/gdrive\", force_remount=True).\n"
     ]
    }
   ],
   "source": [
    "from google.colab import drive  # to mount Google Drive to Colab notebook\n",
    "drive.mount('/content/gdrive')\n",
    "DataSet.to_csv('./gdrive/My Drive/(your file name for example1: Arabictest).csv')"
   ]
  }
 ],
 "metadata": {
  "colab": {
   "collapsed_sections": [
    "_Lww1vsgn1Fd",
    "pt2f6MLXn1Fh",
    "WjIuIAwGn1Fp",
    "NscA3v2MyL_w"
   ],
   "name": "Twitter Data Collection.ipynb",
   "provenance": []
  },
  "kernelspec": {
   "display_name": "Python 3",
   "language": "python",
   "name": "python3"
  },
  "language_info": {
   "codemirror_mode": {
    "name": "ipython",
    "version": 3
   },
   "file_extension": ".py",
   "mimetype": "text/x-python",
   "name": "python",
   "nbconvert_exporter": "python",
   "pygments_lexer": "ipython3",
   "version": "3.7.6"
  }
 },
 "nbformat": 4,
 "nbformat_minor": 1
}
